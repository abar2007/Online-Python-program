{
 "cells": [
  {
   "cell_type": "code",
   "execution_count": 2,
   "id": "418bc270-dc56-4598-a2f6-b5d03fbcd2da",
   "metadata": {},
   "outputs": [
    {
     "name": "stdout",
     "output_type": "stream",
     "text": [
      "200.075\n"
     ]
    }
   ],
   "source": [
    "num = .075\n",
    "total = num + 200\n",
    "print(total)"
   ]
  },
  {
   "cell_type": "code",
   "execution_count": 3,
   "id": "a1383b14-a704-45ef-b1cd-bc93d5906f43",
   "metadata": {},
   "outputs": [
    {
     "ename": "SyntaxError",
     "evalue": "invalid syntax (<ipython-input-3-dfa48738a9a6>, line 1)",
     "output_type": "error",
     "traceback": [
      "\u001b[1;36m  File \u001b[1;32m\"<ipython-input-3-dfa48738a9a6>\"\u001b[1;36m, line \u001b[1;32m1\u001b[0m\n\u001b[1;33m    global = 6\u001b[0m\n\u001b[1;37m           ^\u001b[0m\n\u001b[1;31mSyntaxError\u001b[0m\u001b[1;31m:\u001b[0m invalid syntax\n"
     ]
    }
   ],
   "source": [
    "global = 6\n",
    "print (global)"
   ]
  },
  {
   "cell_type": "code",
   "execution_count": null,
   "id": "06295e71-63a8-4a61-9ecc-3449ba1639a0",
   "metadata": {},
   "outputs": [],
   "source": [
    "a= 10 % 3\n",
    "a"
   ]
  },
  {
   "cell_type": "code",
   "execution_count": null,
   "id": "5411e64a-6774-47f2-be10-80ba5ad2a8f4",
   "metadata": {},
   "outputs": [],
   "source": [
    "a = 5\n",
    "a = a+1\n",
    "print (a)"
   ]
  },
  {
   "cell_type": "code",
   "execution_count": 6,
   "id": "f4788f5b-c1ef-4c2f-9a3b-3017b6d75029",
   "metadata": {},
   "outputs": [
    {
     "data": {
      "text/plain": [
       "13"
      ]
     },
     "execution_count": 6,
     "metadata": {},
     "output_type": "execute_result"
    }
   ],
   "source": [
    "total_cost = 1 + 3 * 4\n",
    "total_cost"
   ]
  },
  {
   "cell_type": "code",
   "execution_count": 6,
   "id": "1d3a68d6-6d2d-46cf-8708-de6813e88aea",
   "metadata": {},
   "outputs": [
    {
     "name": "stdout",
     "output_type": "stream",
     "text": [
      " my name is\n"
     ]
    }
   ],
   "source": [
    "a=\" is\"\n",
    "b=\" my\"\n",
    "c=\" name\"\n",
    "d= b +\"\" +c+\"\"+  a\n",
    "print(d)"
   ]
  },
  {
   "cell_type": "code",
   "execution_count": 3,
   "id": "dc9a7f39-8faa-475a-a370-35943771e822",
   "metadata": {},
   "outputs": [
    {
     "name": "stdout",
     "output_type": "stream",
     "text": [
      "Enter your value89\n",
      "104\n"
     ]
    }
   ],
   "source": [
    "#input\n",
    "x = input(\"Enter your value\")\n",
    "y = 15\n",
    "z= int(x) + y\n",
    "print(z)"
   ]
  },
  {
   "cell_type": "code",
   "execution_count": 11,
   "id": "31153ca2",
   "metadata": {},
   "outputs": [
    {
     "name": "stdout",
     "output_type": "stream",
     "text": [
      "what is your age?18\n",
      "you are allowed\n"
     ]
    }
   ],
   "source": [
    "age = int(input(\"what is your age?\"));\n",
    "if age >= 18:\n",
    "    print (\"you are allowed\")\n",
    "else :\n",
    "    print (\"you are  not allowed\")\n"
   ]
  },
  {
   "cell_type": "code",
   "execution_count": 3,
   "id": "d437cb53",
   "metadata": {},
   "outputs": [
    {
     "name": "stdout",
     "output_type": "stream",
     "text": [
      "wrong answer\n"
     ]
    }
   ],
   "source": [
    "x=40;\n",
    "y=36;\n",
    "a=28;\n",
    "b=13;\n",
    "\n",
    "if x+y ==a-b :\n",
    "    print(\"your ans is correct\");\n",
    "else:\n",
    "    print(\"wrong answer\");"
   ]
  },
  {
   "cell_type": "code",
   "execution_count": 13,
   "id": "f6cc9963",
   "metadata": {},
   "outputs": [
    {
     "name": "stdout",
     "output_type": "stream",
     "text": [
      "('ali', 'umer', 'usman')\n"
     ]
    }
   ],
   "source": [
    "tp=(\"ali\",\"umer\",\"usman\")\n",
    "print(tp)"
   ]
  },
  {
   "cell_type": "code",
   "execution_count": 15,
   "id": "f9657324",
   "metadata": {
    "scrolled": true
   },
   "outputs": [
    {
     "ename": "TypeError",
     "evalue": "'tuple' object does not support item assignment",
     "output_type": "error",
     "traceback": [
      "\u001b[1;31m---------------------------------------------------------------------------\u001b[0m",
      "\u001b[1;31mTypeError\u001b[0m                                 Traceback (most recent call last)",
      "\u001b[1;32m<ipython-input-15-2980284fe744>\u001b[0m in \u001b[0;36m<module>\u001b[1;34m\u001b[0m\n\u001b[1;32m----> 1\u001b[1;33m \u001b[0mtp\u001b[0m\u001b[1;33m[\u001b[0m\u001b[1;36m1\u001b[0m\u001b[1;33m]\u001b[0m\u001b[1;33m=\u001b[0m\u001b[1;34m\"umair\"\u001b[0m\u001b[1;33m\u001b[0m\u001b[1;33m\u001b[0m\u001b[0m\n\u001b[0m",
      "\u001b[1;31mTypeError\u001b[0m: 'tuple' object does not support item assignment"
     ]
    }
   ],
   "source": [
    "tp[1]=\"umair\""
   ]
  },
  {
   "cell_type": "code",
   "execution_count": 1,
   "id": "8356f514",
   "metadata": {},
   "outputs": [
    {
     "name": "stdin",
     "output_type": "stream",
     "text": [
      "enter your percentage% 80\n"
     ]
    },
    {
     "name": "stdout",
     "output_type": "stream",
     "text": [
      "A+\n"
     ]
    }
   ],
   "source": [
    " per = int(input(\"enter your percentage%\"));\n",
    "if per >= 80 and per <=100 :\n",
    "        print(\"A+\")\n",
    "elif per >=70 and per < 80 :\n",
    "    print(\"A\")\n",
    "elif per >= 60 and per < 70 :\n",
    "    print (\"B\")\n",
    "elif per >= 0 and per < 60 :\n",
    "    print(\"Fail\")\n",
    "    "
   ]
  },
  {
   "cell_type": "code",
   "execution_count": null,
   "id": "583d7c60-0c42-4169-8e6f-07b688ae12bc",
   "metadata": {},
   "outputs": [],
   "source": []
  }
 ],
 "metadata": {
  "kernelspec": {
   "display_name": "Python 3",
   "language": "python",
   "name": "python3"
  },
  "language_info": {
   "codemirror_mode": {
    "name": "ipython",
    "version": 3
   },
   "file_extension": ".py",
   "mimetype": "text/x-python",
   "name": "python",
   "nbconvert_exporter": "python",
   "pygments_lexer": "ipython3",
   "version": "3.8.8"
  }
 },
 "nbformat": 4,
 "nbformat_minor": 5
}
